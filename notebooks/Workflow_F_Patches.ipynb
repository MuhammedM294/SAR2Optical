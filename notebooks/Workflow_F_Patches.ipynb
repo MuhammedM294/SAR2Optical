{
 "cells": [
  {
   "cell_type": "code",
   "execution_count": 1,
   "metadata": {},
   "outputs": [],
   "source": [
    "import cv2\n",
    "import numpy as np\n",
    "import matplotlib.pyplot as plt\n",
    "import skimage\n",
    "import imageio.v2 as imageio\n",
    "from glob import glob"
   ]
  },
  {
   "cell_type": "code",
   "execution_count": 5,
   "metadata": {},
   "outputs": [],
   "source": [
    "def generate_patches_with_overlap(image, patch_size=512, overlap=0.6):\n",
    "    height, width = image.shape\n",
    "    stride = int(patch_size * (1 - overlap))\n",
    "\n",
    "    patches = []\n",
    "    for y in range(0, height - patch_size + 1, stride):\n",
    "        for x in range(0, width - patch_size + 1, stride):\n",
    "            patch = image[y:y+patch_size, x:x+patch_size]\n",
    "            patches.append(patch)\n",
    "\n",
    "    return np.array(patches)"
   ]
  },
  {
   "cell_type": "code",
   "execution_count": 10,
   "metadata": {},
   "outputs": [],
   "source": [
    "dataset = glob(\"processed/mask/*.tif\")\n",
    "for image_path in dataset:\n",
    "    image = cv2.imread(image_path,-1)\n",
    "    image_id = image_path.split(\"/\")[-1].split(\".\")[0]\n",
    "    patches = generate_patches_with_overlap(image, patch_size=512, overlap=0.6)\n",
    "    for i in range(patches.shape[0]):\n",
    "        cv2.imwrite(f\"patches/mask/{image_id}_{i}.tif\", patches[i])\n"
   ]
  }
 ],
 "metadata": {
  "kernelspec": {
   "display_name": "cv",
   "language": "python",
   "name": "python3"
  },
  "language_info": {
   "codemirror_mode": {
    "name": "ipython",
    "version": 3
   },
   "file_extension": ".py",
   "mimetype": "text/x-python",
   "name": "python",
   "nbconvert_exporter": "python",
   "pygments_lexer": "ipython3",
   "version": "3.11.5"
  }
 },
 "nbformat": 4,
 "nbformat_minor": 2
}
